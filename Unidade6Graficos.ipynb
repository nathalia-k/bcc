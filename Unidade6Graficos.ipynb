{
 "cells": [
  {
   "cell_type": "markdown",
   "metadata": {},
   "source": [
    "# Representação gráfica de funções\n",
    "## Gráficos no Python\n",
    "\n",
    "Vamos começar importando algumas bibliotecas do Python que vão nos ajudar a fazer os gráficos. \n",
    "\n",
    "Começamos importando a <samp>matplotlib.pyplot</samp> que tem diversas funções para gráficos prontas para a gente usar. \n",
    "Aqui estamos dando o \"apelido\" de <samp>plt<samp> para essa biblioteca. Assim, não temos que digitar <samp>matplotlib.pyplot</samp> toda vez que a usarmos. \n",
    "\n",
    "A opção <samp>%matplotlib notebook</samp> a seguir define como o gráfico vai aparecer. Existem outras opções, mas não vamos explorá-las.\n",
    "\n",
    "Não esqueça de executar cada célula com o comando <samp>SHIFT+ENTER</samp>."
   ]
  },
  {
   "cell_type": "code",
   "execution_count": null,
   "metadata": {
    "collapsed": true
   },
   "outputs": [],
   "source": [
    "import matplotlib.pyplot as plt\n",
    "%matplotlib notebook"
   ]
  },
  {
   "cell_type": "markdown",
   "metadata": {},
   "source": [
    "Agora vamos importar a biblioteca <samp>numpy</samp> que tem diversas funções matemáticas úteis para nós. Vamos dar o \"apelido\" de <samp>np</samp>:"
   ]
  },
  {
   "cell_type": "code",
   "execution_count": null,
   "metadata": {
    "collapsed": true
   },
   "outputs": [],
   "source": [
    "import numpy as np"
   ]
  },
  {
   "cell_type": "markdown",
   "metadata": {},
   "source": [
    "No LibreOffice Calc, criamos uma lista de números de -4 a 4 de 0.1 em 0.1 \n",
    "Aqui vamos criar uma lista com os números de -100 a 100 de 0.1 e colocar em uma variável x.\n",
    "O bom aqui é que o numpy já tem uma função que faz isso para a gente:"
   ]
  },
  {
   "cell_type": "code",
   "execution_count": null,
   "metadata": {
    "collapsed": true
   },
   "outputs": [],
   "source": [
    "a = np.arange(-100,100.1,0.1)"
   ]
  },
  {
   "cell_type": "markdown",
   "metadata": {},
   "source": [
    "Vamos ver como ficou a?"
   ]
  },
  {
   "cell_type": "code",
   "execution_count": null,
   "metadata": {
    "collapsed": false
   },
   "outputs": [],
   "source": [
    "a"
   ]
  },
  {
   "cell_type": "markdown",
   "metadata": {},
   "source": [
    "Então, note que em arange, -100 é o número inicial, 100.1 é o número limite (não incluindo o próprio 100.1), e 0.1 é o quanto acrescentamos em cada passo.\n",
    "\n",
    "E para calcular o seno de cada número em a? De novo, o numpy já tem isso pronto para a gente. Vamos usar a função <samp>sin</samp>:"
   ]
  },
  {
   "cell_type": "code",
   "execution_count": null,
   "metadata": {
    "collapsed": true
   },
   "outputs": [],
   "source": [
    "b = np.sin(a) "
   ]
  },
  {
   "cell_type": "markdown",
   "metadata": {},
   "source": [
    "Vamos ver como ficou b?"
   ]
  },
  {
   "cell_type": "code",
   "execution_count": null,
   "metadata": {
    "collapsed": false
   },
   "outputs": [],
   "source": [
    "b"
   ]
  },
  {
   "cell_type": "markdown",
   "metadata": {},
   "source": [
    "Agora só falta fazer o gráfico! Vamos chamar o matplotlib.pyplot pelo seu apelido plt:"
   ]
  },
  {
   "cell_type": "code",
   "execution_count": null,
   "metadata": {
    "collapsed": false
   },
   "outputs": [],
   "source": [
    "plt.plot(a,b)"
   ]
  },
  {
   "cell_type": "markdown",
   "metadata": {},
   "source": [
    "Como você pode ver em <samp>plot(a,b)</samp> o primeiro parâmetro fica no eixo x e o segundo no eixo y. Podemos personalizar nosso gráfico. \n",
    "\n",
    "Suponha que esse gráfico representa um sinal, onde o eixo x representa o tempo em segundos e o eixo y o valor do sinal. Então vamos colocar \"tempo\" no eixo x:"
   ]
  },
  {
   "cell_type": "code",
   "execution_count": null,
   "metadata": {
    "collapsed": false
   },
   "outputs": [],
   "source": [
    "plt.xlabel(\"tempo\")"
   ]
  },
  {
   "cell_type": "markdown",
   "metadata": {},
   "source": [
    "Note que o seu gráfico (acima) foi atualizado com \"tempo\" no eixo x.\n",
    "Vamos colocar \"valor do sinal\" como o nome do eixo y:"
   ]
  },
  {
   "cell_type": "code",
   "execution_count": null,
   "metadata": {
    "collapsed": false
   },
   "outputs": [],
   "source": [
    "plt.ylabel(\"valor do sinal\")"
   ]
  },
  {
   "cell_type": "markdown",
   "metadata": {},
   "source": [
    "Vamos colocar um título no gráfico? Vamos chamá-lo de \"Gráfico\" (criatividade pura, não?)"
   ]
  },
  {
   "cell_type": "code",
   "execution_count": null,
   "metadata": {
    "collapsed": true
   },
   "outputs": [],
   "source": [
    "plt.title(\"Gráfico\");"
   ]
  },
  {
   "cell_type": "markdown",
   "metadata": {},
   "source": [
    "Às vezes, é muito útil ter uma grade no gráfico. Isso é bem fácil de se fazer:"
   ]
  },
  {
   "cell_type": "code",
   "execution_count": null,
   "metadata": {
    "collapsed": true
   },
   "outputs": [],
   "source": [
    "plt.grid(True)"
   ]
  },
  {
   "cell_type": "markdown",
   "metadata": {},
   "source": [
    "Se você quiser tirar a grade, você pode colocar plt.grid(False)\n",
    "\n",
    "Talvez você esteja estranhando este gráfico do seno. O gráfico ficou meio \"esticado\", não?\n",
    "Bom, isso é porque o nosso eixo x vai de -100 a 100 enquanto o eixo y é só de -1 a 1.\n",
    "Então o matplotlib tentou escolher uma escala para a gente. \n",
    "Se você que que os eixos fiquem na mesma escala, bastaria digitar:"
   ]
  },
  {
   "cell_type": "code",
   "execution_count": null,
   "metadata": {
    "collapsed": false
   },
   "outputs": [],
   "source": [
    "plt.axis('equal')"
   ]
  },
  {
   "cell_type": "markdown",
   "metadata": {},
   "source": [
    "Explore um pouco o gráfico! Você pode salvar o gráfico em uma figura clicando no símbolo do disquete/salvar.\n",
    "\n",
    "O quadradinho branco é uma ferramenta de zoom. \n",
    "\n"
   ]
  },
  {
   "cell_type": "markdown",
   "metadata": {},
   "source": [
    "Note que se nós fizemos plot de novo, o gráfico será colocado em cima do nosso gráfico. Isso é muito útil se queremos colocar vários gráficos juntos."
   ]
  },
  {
   "cell_type": "code",
   "execution_count": null,
   "metadata": {
    "collapsed": false
   },
   "outputs": [],
   "source": [
    "c = a/2\n",
    "plt.plot(a,c,'g')"
   ]
  },
  {
   "cell_type": "markdown",
   "metadata": {},
   "source": [
    "O que você acha que o 'g' está fazendo?\n",
    "Bom, com isso dizemos que queremos fazer o gráfico em verde (green)\n",
    "Você pode usar 'r' para vermelho e 'b' para azul.\n",
    "\n",
    "Mas e se você quisesse começar um gráfico novo? Basta clicar no símbolo de energia no topo do gráfico.\n",
    "\n",
    "![Desligar o gráfico](http://ufabc.info/BCCEAD/U6/shutdown_graph.png)\n",
    "\n",
    "Vamos fazer um novo gráfico:"
   ]
  },
  {
   "cell_type": "code",
   "execution_count": null,
   "metadata": {
    "collapsed": false
   },
   "outputs": [],
   "source": [
    "plt.plot(a,c,'r')"
   ]
  },
  {
   "cell_type": "markdown",
   "metadata": {},
   "source": [
    "## Arrays \n",
    "\n",
    "O arange do numpy cria um tipo de dado chamado **array**. Veja como as operações com arrays funcionam:"
   ]
  },
  {
   "cell_type": "code",
   "execution_count": null,
   "metadata": {
    "collapsed": false
   },
   "outputs": [],
   "source": [
    "c = np.arange(0,1,0.1)\n",
    "c"
   ]
  },
  {
   "cell_type": "markdown",
   "metadata": {},
   "source": [
    "O que você acha que deveria ser c+c? Veja abaixo:"
   ]
  },
  {
   "cell_type": "code",
   "execution_count": null,
   "metadata": {
    "collapsed": false
   },
   "outputs": [],
   "source": [
    "c+c"
   ]
  },
  {
   "cell_type": "markdown",
   "metadata": {},
   "source": [
    "E c*c?"
   ]
  },
  {
   "cell_type": "code",
   "execution_count": null,
   "metadata": {
    "collapsed": false
   },
   "outputs": [],
   "source": [
    "c*c"
   ]
  },
  {
   "cell_type": "markdown",
   "metadata": {},
   "source": [
    "Então note que em arrays, essas operações são realizadas ponto-a-ponto. \n",
    "E como faríamos a raiz quadrada de cada entrada de c?"
   ]
  },
  {
   "cell_type": "code",
   "execution_count": null,
   "metadata": {
    "collapsed": false
   },
   "outputs": [],
   "source": [
    "np.sqrt(c)"
   ]
  },
  {
   "cell_type": "markdown",
   "metadata": {},
   "source": [
    "Use a caixa abaixo para criar um gráfico para $c^3+2c$. (Use a multiplicação para fazer o $c^3$).\n",
    "Coloque a grade."
   ]
  },
  {
   "cell_type": "code",
   "execution_count": null,
   "metadata": {
    "collapsed": true
   },
   "outputs": [],
   "source": []
  },
  {
   "cell_type": "markdown",
   "metadata": {},
   "source": [
    "Note que se você não desligar o último gráfico, ele irá plotar lá em cima."
   ]
  },
  {
   "cell_type": "markdown",
   "metadata": {},
   "source": [
    "# Como fazer um círculo\n",
    "Vamos ver como fazer um círculo de raio 5 e centro (1,2).\n",
    "\n",
    "Você se lembra da equação para um círculo? \n",
    "\n",
    "Para raio r e centro (a,b)\n",
    "\n",
    "$(x-a)^2 + (y-b)^2 = r^2$\n",
    "\n",
    "No nosso exemplo, a equação seria\n",
    "\n",
    "$(x-1)^2 + (y-2)^2 = 25$\n",
    "\n",
    "Mas como isso nos ajuda a fazer o gráfico. Vamos tentar isolar o y:\n",
    "\n",
    "$(y-2)^2 = 25-(x-1)^2$\n",
    "\n",
    "Tirando a raiz quadrada temos duas opções para y\n",
    "\n",
    "$y-2 = \\sqrt{25-(x-1)^2}$ e $y-2 = -\\sqrt{25-(x-1)^2}$ \n",
    "\n",
    "Passando o 2 para o outro lado:\n",
    "\n",
    "$y = 2+\\sqrt{25-(x-1)^2}$ e $y = 2-\\sqrt{25-(x-1)^2}$ \n",
    "\n",
    "Mas e qual é o valor de x?\n",
    "\n",
    "O centro está em $x=1$. Como o raio é 5, então $x$ varia de $(1 - 5)$ a $(1 + 5)$"
   ]
  },
  {
   "cell_type": "code",
   "execution_count": null,
   "metadata": {
    "collapsed": false
   },
   "outputs": [],
   "source": [
    "x = np.arange(-4,6.001,0.001)\n",
    "x"
   ]
  },
  {
   "cell_type": "markdown",
   "metadata": {},
   "source": [
    "Note que 6.001 foi incluído. Isso é devido a um pequeno erro numérico.\n",
    "\n",
    "Podemos consertar isso diminuindo um pouco o 6.001."
   ]
  },
  {
   "cell_type": "code",
   "execution_count": null,
   "metadata": {
    "collapsed": false
   },
   "outputs": [],
   "source": [
    "x = np.arange(-4,6.0001,0.001);\n",
    "x"
   ]
  },
  {
   "cell_type": "markdown",
   "metadata": {},
   "source": [
    "Nós podemos tirar a raiz de $\\sqrt{25-(x-1)^2}$ porque o número dentro da raiz nunca é negativo.\n",
    "\n",
    "Mas como o computador pode ter pequenos erros numéricos. O último valor em x é 6, mas pode ser que na verdade o computador está aproximando esse 6 como 6.000000000001 (ou seja, quase 6!)\n",
    "\n",
    "Nesse caso, o Python pode reclamar na hora que tirarmos a raiz que estamos tentando tirar a raiz de um número negativo.\n",
    "\n",
    "Usamos a função abs (valor absoluto) para manter o número não-negativo e evitar erros."
   ]
  },
  {
   "cell_type": "code",
   "execution_count": null,
   "metadata": {
    "collapsed": false
   },
   "outputs": [],
   "source": [
    "y = 2+np.sqrt(np.abs(25-(x-1)*(x-1)))\n",
    "y"
   ]
  },
  {
   "cell_type": "markdown",
   "metadata": {},
   "source": [
    "Vamos plotar!\n",
    "Não se esqueça de *desligar* o último gráfico. Caso contrário, ele vai plotar lá em cima!"
   ]
  },
  {
   "cell_type": "code",
   "execution_count": null,
   "metadata": {
    "collapsed": false
   },
   "outputs": [],
   "source": [
    "plt.plot(x,y,'b')"
   ]
  },
  {
   "cell_type": "markdown",
   "metadata": {},
   "source": [
    "Plotamos a parte de cima do círculo. Faltou a parte de baixo:"
   ]
  },
  {
   "cell_type": "code",
   "execution_count": null,
   "metadata": {
    "collapsed": false
   },
   "outputs": [],
   "source": [
    "y = 2-np.sqrt(np.abs(25-(x-1)*(x-1)))\n",
    "y"
   ]
  },
  {
   "cell_type": "code",
   "execution_count": null,
   "metadata": {
    "collapsed": false
   },
   "outputs": [],
   "source": [
    "plt.plot(x,y,'b')"
   ]
  },
  {
   "cell_type": "markdown",
   "metadata": {},
   "source": [
    "Mas o círculo ficou achatado? Então vamos arrumar a escala:"
   ]
  },
  {
   "cell_type": "code",
   "execution_count": null,
   "metadata": {
    "collapsed": false
   },
   "outputs": [],
   "source": [
    "plt.axis('equal')"
   ]
  },
  {
   "cell_type": "markdown",
   "metadata": {},
   "source": [
    "Faça o plot de dois círculos\n",
    "\n",
    "O primeiro de raio 1 e centro em (0,0)\n",
    "\n",
    "O segundo de raio 2 e centro (1,1)\n",
    "\n"
   ]
  },
  {
   "cell_type": "code",
   "execution_count": null,
   "metadata": {
    "collapsed": true
   },
   "outputs": [],
   "source": []
  },
  {
   "cell_type": "markdown",
   "metadata": {
    "collapsed": true
   },
   "source": [
    "Você pode inserir mais células de código pelo menu **_Insert &raquo; Insert Cell Below_**, ou digitando <samp>ESC+B</samp>."
   ]
  }
 ],
 "metadata": {
  "celltoolbar": "Raw Cell Format",
  "kernelspec": {
   "display_name": "Python 3",
   "language": "python",
   "name": "python3"
  },
  "language_info": {
   "codemirror_mode": {
    "name": "ipython",
    "version": 3
   },
   "file_extension": ".py",
   "mimetype": "text/x-python",
   "name": "python",
   "nbconvert_exporter": "python",
   "pygments_lexer": "ipython3",
   "version": "3.6.0"
  }
 },
 "nbformat": 4,
 "nbformat_minor": 0
}
